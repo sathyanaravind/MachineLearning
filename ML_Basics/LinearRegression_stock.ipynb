{
 "cells": [
  {
   "cell_type": "code",
   "execution_count": 1,
   "metadata": {},
   "outputs": [
    {
     "name": "stdout",
     "output_type": "stream",
     "text": [
      "Collecting quandl\n",
      "  Downloading https://files.pythonhosted.org/packages/c2/58/9f0e69d836045e3865d263e9ed49f42b23a58526fdabb30f74c430baee3f/Quandl-3.6.0-py2.py3-none-any.whl\n",
      "Requirement already satisfied: numpy>=1.8 in c:\\users\\aravind sathyan\\anaconda3\\lib\\site-packages (from quandl) (1.16.5)\n",
      "Requirement already satisfied: six in c:\\users\\aravind sathyan\\anaconda3\\lib\\site-packages (from quandl) (1.12.0)\n",
      "Requirement already satisfied: pandas>=0.14 in c:\\users\\aravind sathyan\\anaconda3\\lib\\site-packages (from quandl) (0.25.1)\n",
      "Collecting inflection>=0.3.1 (from quandl)\n",
      "  Downloading https://files.pythonhosted.org/packages/59/91/aa6bde563e0085a02a435aa99b49ef75b0a4b062635e606dab23ce18d720/inflection-0.5.1-py2.py3-none-any.whl\n",
      "Requirement already satisfied: requests>=2.7.0 in c:\\users\\aravind sathyan\\anaconda3\\lib\\site-packages (from quandl) (2.22.0)\n",
      "Requirement already satisfied: more-itertools in c:\\users\\aravind sathyan\\anaconda3\\lib\\site-packages (from quandl) (7.2.0)\n",
      "Requirement already satisfied: python-dateutil in c:\\users\\aravind sathyan\\anaconda3\\lib\\site-packages (from quandl) (2.8.0)\n",
      "Requirement already satisfied: pytz>=2017.2 in c:\\users\\aravind sathyan\\anaconda3\\lib\\site-packages (from pandas>=0.14->quandl) (2019.3)\n",
      "Requirement already satisfied: idna<2.9,>=2.5 in c:\\users\\aravind sathyan\\anaconda3\\lib\\site-packages (from requests>=2.7.0->quandl) (2.8)\n",
      "Requirement already satisfied: certifi>=2017.4.17 in c:\\users\\aravind sathyan\\anaconda3\\lib\\site-packages (from requests>=2.7.0->quandl) (2019.9.11)\n",
      "Requirement already satisfied: chardet<3.1.0,>=3.0.2 in c:\\users\\aravind sathyan\\anaconda3\\lib\\site-packages (from requests>=2.7.0->quandl) (3.0.4)\n",
      "Requirement already satisfied: urllib3!=1.25.0,!=1.25.1,<1.26,>=1.21.1 in c:\\users\\aravind sathyan\\anaconda3\\lib\\site-packages (from requests>=2.7.0->quandl) (1.24.2)\n",
      "Installing collected packages: inflection, quandl\n",
      "Successfully installed inflection-0.5.1 quandl-3.6.0\n"
     ]
    }
   ],
   "source": [
    "! pip install quandl\n"
   ]
  },
  {
   "cell_type": "code",
   "execution_count": 4,
   "metadata": {},
   "outputs": [
    {
     "name": "stdout",
     "output_type": "stream",
     "text": [
      " Volume in drive C has no label.\n",
      " Volume Serial Number is FCF0-CB92\n",
      "\n",
      " Directory of C:\\Users\\Aravind Sathyan\n",
      "\n",
      "01/16/2021  10:30 PM    <DIR>          .\n",
      "01/16/2021  10:30 PM    <DIR>          ..\n",
      "08/18/2020  04:25 PM    <DIR>          .anaconda\n",
      "10/19/2020  12:23 AM    <DIR>          .android\n",
      "01/14/2021  10:15 PM    <DIR>          .conda\n",
      "01/14/2021  10:12 PM                43 .condarc\n",
      "08/18/2020  04:24 PM    <DIR>          .config\n",
      "01/16/2021  10:28 PM    <DIR>          .ipynb_checkpoints\n",
      "08/18/2020  04:24 PM    <DIR>          .ipython\n",
      "01/08/2021  05:56 PM    <DIR>          .jupyter\n",
      "08/18/2020  04:24 PM    <DIR>          .matplotlib\n",
      "01/09/2021  04:11 PM    <DIR>          .spyder-py3\n",
      "01/16/2021  10:25 PM    <DIR>          3D Objects\n",
      "08/18/2020  10:07 AM    <DIR>          Anaconda3\n",
      "01/16/2021  10:25 PM    <DIR>          Contacts\n",
      "08/18/2020  04:27 PM               152 debug.log\n",
      "01/16/2021  10:25 PM    <DIR>          Desktop\n",
      "01/16/2021  10:25 PM    <DIR>          Documents\n",
      "01/16/2021  10:25 PM    <DIR>          Downloads\n",
      "01/16/2021  10:25 PM    <DIR>          Favorites\n",
      "08/09/2020  03:14 AM    <DIR>          Intel\n",
      "01/16/2021  10:25 PM    <DIR>          Links\n",
      "01/14/2021  10:58 PM    <DIR>          Machine Learning\n",
      "01/16/2021  10:25 PM    <DIR>          Music\n",
      "12/11/2020  12:00 PM    <DIR>          OneDrive\n",
      "01/16/2021  10:25 PM    <DIR>          Pictures\n",
      "01/16/2021  10:25 PM    <DIR>          Saved Games\n",
      "01/16/2021  10:25 PM    <DIR>          Searches\n",
      "01/14/2021  11:04 PM    <DIR>          Untitled Folder\n",
      "01/08/2021  05:59 PM               555 Untitled.ipynb\n",
      "01/16/2021  10:30 PM               555 Untitled1.ipynb\n",
      "01/16/2021  10:25 PM    <DIR>          Videos\n",
      "               4 File(s)          1,305 bytes\n",
      "              28 Dir(s)  25,585,610,752 bytes free\n"
     ]
    }
   ],
   "source": [
    "!dir"
   ]
  },
  {
   "cell_type": "code",
   "execution_count": 5,
   "metadata": {},
   "outputs": [
    {
     "name": "stdout",
     "output_type": "stream",
     "text": [
      "              Open    High     Low    Close      Volume  Ex-Dividend  \\\n",
      "Date                                                                   \n",
      "2004-08-19  100.01  104.06   95.96  100.335  44659000.0          0.0   \n",
      "2004-08-20  101.01  109.08  100.50  108.310  22834300.0          0.0   \n",
      "2004-08-23  110.76  113.48  109.05  109.400  18256100.0          0.0   \n",
      "2004-08-24  111.24  111.60  103.57  104.870  15247300.0          0.0   \n",
      "2004-08-25  104.76  108.00  103.88  106.000   9188600.0          0.0   \n",
      "\n",
      "            Split Ratio  Adj. Open  Adj. High   Adj. Low  Adj. Close  \\\n",
      "Date                                                                   \n",
      "2004-08-19          1.0  50.159839  52.191109  48.128568   50.322842   \n",
      "2004-08-20          1.0  50.661387  54.708881  50.405597   54.322689   \n",
      "2004-08-23          1.0  55.551482  56.915693  54.693835   54.869377   \n",
      "2004-08-24          1.0  55.792225  55.972783  51.945350   52.597363   \n",
      "2004-08-25          1.0  52.542193  54.167209  52.100830   53.164113   \n",
      "\n",
      "            Adj. Volume  \n",
      "Date                     \n",
      "2004-08-19   44659000.0  \n",
      "2004-08-20   22834300.0  \n",
      "2004-08-23   18256100.0  \n",
      "2004-08-24   15247300.0  \n",
      "2004-08-25    9188600.0  \n"
     ]
    }
   ],
   "source": [
    "import pandas as pd\n",
    "import quandl\n",
    "\n",
    "df = quandl.get(\"WIKI/GOOGL\")\n",
    "\n",
    "print(df.head())"
   ]
  },
  {
   "cell_type": "code",
   "execution_count": null,
   "metadata": {},
   "outputs": [],
   "source": []
  }
 ],
 "metadata": {
  "kernelspec": {
   "display_name": "Python 3",
   "language": "python",
   "name": "python3"
  },
  "language_info": {
   "codemirror_mode": {
    "name": "ipython",
    "version": 3
   },
   "file_extension": ".py",
   "mimetype": "text/x-python",
   "name": "python",
   "nbconvert_exporter": "python",
   "pygments_lexer": "ipython3",
   "version": "3.8.5"
  }
 },
 "nbformat": 4,
 "nbformat_minor": 2
}
